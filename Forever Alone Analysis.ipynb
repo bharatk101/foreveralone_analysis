{
 "cells": [
  {
   "cell_type": "markdown",
   "metadata": {},
   "source": [
    "# Reddit r/ForeverAlone Survey Analysis"
   ]
  },
  {
   "cell_type": "markdown",
   "metadata": {},
   "source": [
    "ForeverAlone was a subreddit to share the forever alone meme, but somewhere down the line, it turned into an identity and a place where people who have been alone most of their lives could come and talk about their issues.\n",
    "\n",
    "Tag line of r/ForeverAlone [A subreddit for Forever Alone. lonely depressed sad anxiety](https://www.reddit.com/r/ForeverAlone/)"
   ]
  },
  {
   "cell_type": "markdown",
   "metadata": {},
   "source": [
    "## Import Data"
   ]
  },
  {
   "cell_type": "code",
   "execution_count": 66,
   "metadata": {},
   "outputs": [
    {
     "data": {
      "text/html": [
       "<script type=\"text/javascript\">window.PlotlyConfig = {MathJaxConfig: 'local'};</script><script type=\"text/javascript\">if (window.MathJax) {MathJax.Hub.Config({SVG: {font: \"STIX-Web\"}});}</script><script>requirejs.config({paths: { 'plotly': ['https://cdn.plot.ly/plotly-latest.min']},});if(!window._Plotly) {require(['plotly'],function(plotly) {window._Plotly=plotly;});}</script>"
      ],
      "text/vnd.plotly.v1+html": [
       "<script type=\"text/javascript\">window.PlotlyConfig = {MathJaxConfig: 'local'};</script><script type=\"text/javascript\">if (window.MathJax) {MathJax.Hub.Config({SVG: {font: \"STIX-Web\"}});}</script><script>requirejs.config({paths: { 'plotly': ['https://cdn.plot.ly/plotly-latest.min']},});if(!window._Plotly) {require(['plotly'],function(plotly) {window._Plotly=plotly;});}</script>"
      ]
     },
     "metadata": {},
     "output_type": "display_data"
    }
   ],
   "source": [
    "# import packages\n",
    "\n",
    "import numpy as np\n",
    "import pandas as pd\n",
    "import matplotlib.pyplot as plt\n",
    "import plotly.plotly as py\n",
    "import plotly.graph_objs as go\n",
    "import plotly.figure_factory as ff\n",
    "from plotly.offline import init_notebook_mode, iplot\n",
    "init_notebook_mode(connected=True)\n",
    "%matplotlib inline"
   ]
  },
  {
   "cell_type": "code",
   "execution_count": 30,
   "metadata": {},
   "outputs": [],
   "source": [
    "# load dataset\n",
    "df = pd.read_csv('foreveralone.csv')"
   ]
  },
  {
   "cell_type": "code",
   "execution_count": 14,
   "metadata": {
    "scrolled": false
   },
   "outputs": [
    {
     "data": {
      "text/html": [
       "<div>\n",
       "<style scoped>\n",
       "    .dataframe tbody tr th:only-of-type {\n",
       "        vertical-align: middle;\n",
       "    }\n",
       "\n",
       "    .dataframe tbody tr th {\n",
       "        vertical-align: top;\n",
       "    }\n",
       "\n",
       "    .dataframe thead th {\n",
       "        text-align: right;\n",
       "    }\n",
       "</style>\n",
       "<table border=\"1\" class=\"dataframe\">\n",
       "  <thead>\n",
       "    <tr style=\"text-align: right;\">\n",
       "      <th></th>\n",
       "      <th>time</th>\n",
       "      <th>gender</th>\n",
       "      <th>sexuallity</th>\n",
       "      <th>age</th>\n",
       "      <th>income</th>\n",
       "      <th>race</th>\n",
       "      <th>bodyweight</th>\n",
       "      <th>virgin</th>\n",
       "      <th>prostitution_legal</th>\n",
       "      <th>pay_for_sex</th>\n",
       "      <th>friends</th>\n",
       "      <th>social_fear</th>\n",
       "      <th>depressed</th>\n",
       "      <th>what_help_from_others</th>\n",
       "      <th>attempt_suicide</th>\n",
       "      <th>employment</th>\n",
       "      <th>job_title</th>\n",
       "      <th>edu_level</th>\n",
       "      <th>improve_yourself_how</th>\n",
       "    </tr>\n",
       "  </thead>\n",
       "  <tbody>\n",
       "    <tr>\n",
       "      <th>0</th>\n",
       "      <td>5/17/2016 20:04:18</td>\n",
       "      <td>Male</td>\n",
       "      <td>Straight</td>\n",
       "      <td>35</td>\n",
       "      <td>$30,000 to $39,999</td>\n",
       "      <td>White non-Hispanic</td>\n",
       "      <td>Normal weight</td>\n",
       "      <td>Yes</td>\n",
       "      <td>No</td>\n",
       "      <td>No</td>\n",
       "      <td>0.0</td>\n",
       "      <td>Yes</td>\n",
       "      <td>Yes</td>\n",
       "      <td>wingman/wingwoman, Set me up with a date</td>\n",
       "      <td>Yes</td>\n",
       "      <td>Employed for wages</td>\n",
       "      <td>mechanical drafter</td>\n",
       "      <td>Associate degree</td>\n",
       "      <td>None</td>\n",
       "    </tr>\n",
       "    <tr>\n",
       "      <th>1</th>\n",
       "      <td>5/17/2016 20:04:30</td>\n",
       "      <td>Male</td>\n",
       "      <td>Bisexual</td>\n",
       "      <td>21</td>\n",
       "      <td>$1 to $10,000</td>\n",
       "      <td>White non-Hispanic</td>\n",
       "      <td>Underweight</td>\n",
       "      <td>Yes</td>\n",
       "      <td>No</td>\n",
       "      <td>No</td>\n",
       "      <td>0.0</td>\n",
       "      <td>Yes</td>\n",
       "      <td>Yes</td>\n",
       "      <td>wingman/wingwoman, Set me up with a date, date...</td>\n",
       "      <td>No</td>\n",
       "      <td>Out of work and looking for work</td>\n",
       "      <td>-</td>\n",
       "      <td>Some college, no degree</td>\n",
       "      <td>join clubs/socual clubs/meet ups</td>\n",
       "    </tr>\n",
       "    <tr>\n",
       "      <th>2</th>\n",
       "      <td>5/17/2016 20:04:58</td>\n",
       "      <td>Male</td>\n",
       "      <td>Straight</td>\n",
       "      <td>22</td>\n",
       "      <td>$0</td>\n",
       "      <td>White non-Hispanic</td>\n",
       "      <td>Overweight</td>\n",
       "      <td>Yes</td>\n",
       "      <td>No</td>\n",
       "      <td>No</td>\n",
       "      <td>10.0</td>\n",
       "      <td>Yes</td>\n",
       "      <td>Yes</td>\n",
       "      <td>I don't want help</td>\n",
       "      <td>No</td>\n",
       "      <td>Out of work but not currently looking for work</td>\n",
       "      <td>unemployed</td>\n",
       "      <td>Some college, no degree</td>\n",
       "      <td>Other exercise</td>\n",
       "    </tr>\n",
       "    <tr>\n",
       "      <th>3</th>\n",
       "      <td>5/17/2016 20:08:01</td>\n",
       "      <td>Male</td>\n",
       "      <td>Straight</td>\n",
       "      <td>19</td>\n",
       "      <td>$1 to $10,000</td>\n",
       "      <td>White non-Hispanic</td>\n",
       "      <td>Overweight</td>\n",
       "      <td>Yes</td>\n",
       "      <td>Yes</td>\n",
       "      <td>No</td>\n",
       "      <td>8.0</td>\n",
       "      <td>Yes</td>\n",
       "      <td>Yes</td>\n",
       "      <td>date coaching</td>\n",
       "      <td>No</td>\n",
       "      <td>A student</td>\n",
       "      <td>student</td>\n",
       "      <td>Some college, no degree</td>\n",
       "      <td>Joined a gym/go to the gym</td>\n",
       "    </tr>\n",
       "    <tr>\n",
       "      <th>4</th>\n",
       "      <td>5/17/2016 20:08:04</td>\n",
       "      <td>Male</td>\n",
       "      <td>Straight</td>\n",
       "      <td>23</td>\n",
       "      <td>$30,000 to $39,999</td>\n",
       "      <td>White non-Hispanic</td>\n",
       "      <td>Overweight</td>\n",
       "      <td>No</td>\n",
       "      <td>No</td>\n",
       "      <td>Yes and I have</td>\n",
       "      <td>10.0</td>\n",
       "      <td>No</td>\n",
       "      <td>Yes</td>\n",
       "      <td>I don't want help</td>\n",
       "      <td>No</td>\n",
       "      <td>Employed for wages</td>\n",
       "      <td>Factory worker</td>\n",
       "      <td>High school graduate, diploma or the equivalen...</td>\n",
       "      <td>None</td>\n",
       "    </tr>\n",
       "  </tbody>\n",
       "</table>\n",
       "</div>"
      ],
      "text/plain": [
       "                 time gender sexuallity  age              income  \\\n",
       "0  5/17/2016 20:04:18   Male   Straight   35  $30,000 to $39,999   \n",
       "1  5/17/2016 20:04:30   Male   Bisexual   21       $1 to $10,000   \n",
       "2  5/17/2016 20:04:58   Male   Straight   22                  $0   \n",
       "3  5/17/2016 20:08:01   Male   Straight   19       $1 to $10,000   \n",
       "4  5/17/2016 20:08:04   Male   Straight   23  $30,000 to $39,999   \n",
       "\n",
       "                 race     bodyweight virgin prostitution_legal  \\\n",
       "0  White non-Hispanic  Normal weight    Yes                 No   \n",
       "1  White non-Hispanic    Underweight    Yes                 No   \n",
       "2  White non-Hispanic     Overweight    Yes                 No   \n",
       "3  White non-Hispanic     Overweight    Yes                Yes   \n",
       "4  White non-Hispanic     Overweight     No                 No   \n",
       "\n",
       "      pay_for_sex  friends social_fear depressed  \\\n",
       "0              No      0.0         Yes       Yes   \n",
       "1              No      0.0         Yes       Yes   \n",
       "2              No     10.0         Yes       Yes   \n",
       "3              No      8.0         Yes       Yes   \n",
       "4  Yes and I have     10.0          No       Yes   \n",
       "\n",
       "                               what_help_from_others attempt_suicide  \\\n",
       "0           wingman/wingwoman, Set me up with a date             Yes   \n",
       "1  wingman/wingwoman, Set me up with a date, date...              No   \n",
       "2                                  I don't want help              No   \n",
       "3                                      date coaching              No   \n",
       "4                                  I don't want help              No   \n",
       "\n",
       "                                       employment           job_title  \\\n",
       "0                              Employed for wages  mechanical drafter   \n",
       "1                Out of work and looking for work                   -   \n",
       "2  Out of work but not currently looking for work          unemployed   \n",
       "3                                       A student             student   \n",
       "4                              Employed for wages      Factory worker   \n",
       "\n",
       "                                           edu_level  \\\n",
       "0                                   Associate degree   \n",
       "1                            Some college, no degree   \n",
       "2                            Some college, no degree   \n",
       "3                            Some college, no degree   \n",
       "4  High school graduate, diploma or the equivalen...   \n",
       "\n",
       "               improve_yourself_how  \n",
       "0                              None  \n",
       "1  join clubs/socual clubs/meet ups  \n",
       "2                    Other exercise  \n",
       "3        Joined a gym/go to the gym  \n",
       "4                              None  "
      ]
     },
     "execution_count": 14,
     "metadata": {},
     "output_type": "execute_result"
    }
   ],
   "source": [
    "df.head()"
   ]
  },
  {
   "cell_type": "code",
   "execution_count": 5,
   "metadata": {},
   "outputs": [
    {
     "name": "stdout",
     "output_type": "stream",
     "text": [
      "<class 'pandas.core.frame.DataFrame'>\n",
      "RangeIndex: 469 entries, 0 to 468\n",
      "Data columns (total 19 columns):\n",
      "time                     469 non-null object\n",
      "gender                   469 non-null object\n",
      "sexuallity               469 non-null object\n",
      "age                      469 non-null int64\n",
      "income                   469 non-null object\n",
      "race                     469 non-null object\n",
      "bodyweight               469 non-null object\n",
      "virgin                   469 non-null object\n",
      "prostitution_legal       469 non-null object\n",
      "pay_for_sex              469 non-null object\n",
      "friends                  469 non-null float64\n",
      "social_fear              469 non-null object\n",
      "depressed                469 non-null object\n",
      "what_help_from_others    469 non-null object\n",
      "attempt_suicide          469 non-null object\n",
      "employment               469 non-null object\n",
      "job_title                457 non-null object\n",
      "edu_level                469 non-null object\n",
      "improve_yourself_how     469 non-null object\n",
      "dtypes: float64(1), int64(1), object(17)\n",
      "memory usage: 69.7+ KB\n"
     ]
    }
   ],
   "source": [
    "df.info()"
   ]
  },
  {
   "cell_type": "code",
   "execution_count": 6,
   "metadata": {},
   "outputs": [
    {
     "data": {
      "text/html": [
       "<div>\n",
       "<style scoped>\n",
       "    .dataframe tbody tr th:only-of-type {\n",
       "        vertical-align: middle;\n",
       "    }\n",
       "\n",
       "    .dataframe tbody tr th {\n",
       "        vertical-align: top;\n",
       "    }\n",
       "\n",
       "    .dataframe thead th {\n",
       "        text-align: right;\n",
       "    }\n",
       "</style>\n",
       "<table border=\"1\" class=\"dataframe\">\n",
       "  <thead>\n",
       "    <tr style=\"text-align: right;\">\n",
       "      <th></th>\n",
       "      <th>age</th>\n",
       "      <th>friends</th>\n",
       "    </tr>\n",
       "  </thead>\n",
       "  <tbody>\n",
       "    <tr>\n",
       "      <th>count</th>\n",
       "      <td>469.000000</td>\n",
       "      <td>469.000000</td>\n",
       "    </tr>\n",
       "    <tr>\n",
       "      <th>mean</th>\n",
       "      <td>23.963753</td>\n",
       "      <td>7.956716</td>\n",
       "    </tr>\n",
       "    <tr>\n",
       "      <th>std</th>\n",
       "      <td>6.023526</td>\n",
       "      <td>34.371500</td>\n",
       "    </tr>\n",
       "    <tr>\n",
       "      <th>min</th>\n",
       "      <td>12.000000</td>\n",
       "      <td>0.000000</td>\n",
       "    </tr>\n",
       "    <tr>\n",
       "      <th>25%</th>\n",
       "      <td>20.000000</td>\n",
       "      <td>1.000000</td>\n",
       "    </tr>\n",
       "    <tr>\n",
       "      <th>50%</th>\n",
       "      <td>23.000000</td>\n",
       "      <td>3.000000</td>\n",
       "    </tr>\n",
       "    <tr>\n",
       "      <th>75%</th>\n",
       "      <td>26.000000</td>\n",
       "      <td>7.000000</td>\n",
       "    </tr>\n",
       "    <tr>\n",
       "      <th>max</th>\n",
       "      <td>70.000000</td>\n",
       "      <td>600.000000</td>\n",
       "    </tr>\n",
       "  </tbody>\n",
       "</table>\n",
       "</div>"
      ],
      "text/plain": [
       "              age     friends\n",
       "count  469.000000  469.000000\n",
       "mean    23.963753    7.956716\n",
       "std      6.023526   34.371500\n",
       "min     12.000000    0.000000\n",
       "25%     20.000000    1.000000\n",
       "50%     23.000000    3.000000\n",
       "75%     26.000000    7.000000\n",
       "max     70.000000  600.000000"
      ]
     },
     "execution_count": 6,
     "metadata": {},
     "output_type": "execute_result"
    }
   ],
   "source": [
    "df.describe()"
   ]
  },
  {
   "cell_type": "code",
   "execution_count": 7,
   "metadata": {},
   "outputs": [
    {
     "data": {
      "text/plain": [
       "False"
      ]
     },
     "execution_count": 7,
     "metadata": {},
     "output_type": "execute_result"
    }
   ],
   "source": [
    "df.duplicated().any()"
   ]
  },
  {
   "cell_type": "code",
   "execution_count": 8,
   "metadata": {
    "scrolled": true
   },
   "outputs": [
    {
     "data": {
      "text/plain": [
       "time                     False\n",
       "gender                   False\n",
       "sexuallity               False\n",
       "age                      False\n",
       "income                   False\n",
       "race                     False\n",
       "bodyweight               False\n",
       "virgin                   False\n",
       "prostitution_legal       False\n",
       "pay_for_sex              False\n",
       "friends                  False\n",
       "social_fear              False\n",
       "depressed                False\n",
       "what_help_from_others    False\n",
       "attempt_suicide          False\n",
       "employment               False\n",
       "job_title                 True\n",
       "edu_level                False\n",
       "improve_yourself_how     False\n",
       "dtype: bool"
      ]
     },
     "execution_count": 8,
     "metadata": {},
     "output_type": "execute_result"
    }
   ],
   "source": [
    "df.isna().any()"
   ]
  },
  {
   "cell_type": "code",
   "execution_count": 9,
   "metadata": {
    "scrolled": false
   },
   "outputs": [
    {
     "data": {
      "text/plain": [
       "Student                        50\n",
       "student                        25\n",
       "none                           17\n",
       "None                           12\n",
       "Unemployed                     11\n",
       "Engineer                        9\n",
       "Student                         7\n",
       ".                               6\n",
       "-                               6\n",
       "Software Engineer               5\n",
       "Intern                          5\n",
       "na                              4\n",
       "Nothing                         4\n",
       "Cashier                         4\n",
       "Clerk                           3\n",
       "engineer                        3\n",
       "Software developer              3\n",
       "NEET                            3\n",
       "Software Developer              3\n",
       "None                            2\n",
       "Sales                           2\n",
       "Auditor                         2\n",
       "Technician                      2\n",
       "Designer                        2\n",
       "Cleaner                         2\n",
       "Teacher                         2\n",
       "Courier                         2\n",
       "N/a                             2\n",
       "IT                              2\n",
       "Janitor                         2\n",
       "                               ..\n",
       "Senior Developer                1\n",
       "Language teacher                1\n",
       "Factory worker                  1\n",
       "supervisor                      1\n",
       "Retail                          1\n",
       "Management                      1\n",
       "Grad Student                    1\n",
       "Accounts Receivable             1\n",
       "Undergraduate                   1\n",
       "ggg                             1\n",
       "retail worker                   1\n",
       "Masters                         1\n",
       "Data and development            1\n",
       "Medical Services                1\n",
       "*                               1\n",
       "University Student              1\n",
       "Data entry                      1\n",
       "customer service                1\n",
       "Marketing                       1\n",
       "Sales clerk                     1\n",
       "Program Manager, Non-profit     1\n",
       "Research assistant              1\n",
       "mechanical drafter              1\n",
       "bum                             1\n",
       "Grad student                    1\n",
       "Aviation Electricians Mate      1\n",
       "student teacher                 1\n",
       "PA                              1\n",
       "Scientist                       1\n",
       "Junior BA                       1\n",
       "Name: job_title, Length: 275, dtype: int64"
      ]
     },
     "execution_count": 9,
     "metadata": {},
     "output_type": "execute_result"
    }
   ],
   "source": [
    "df.job_title.value_counts()"
   ]
  },
  {
   "cell_type": "markdown",
   "metadata": {},
   "source": [
    "## Data Wrangling"
   ]
  },
  {
   "cell_type": "markdown",
   "metadata": {},
   "source": [
    "<ul>\n",
    "    <li> Change Datatype of friends from float to int, because it's not possible to have 5.5 friends.</li>\n",
    "    <li> Remove rows where job_title is null. </li>\n",
    "    <li> Rename job_title values where the values is either in lower case or has a space before or after.  </li>\n",
    "</ul>"
   ]
  },
  {
   "cell_type": "markdown",
   "metadata": {},
   "source": [
    "Convert Datatype of Friends from float to int"
   ]
  },
  {
   "cell_type": "code",
   "execution_count": 34,
   "metadata": {
    "scrolled": true
   },
   "outputs": [],
   "source": [
    "# change dataype to int\n",
    "df['friends'] = df['friends'].astype(np.int64)"
   ]
  },
  {
   "cell_type": "code",
   "execution_count": 35,
   "metadata": {},
   "outputs": [
    {
     "name": "stdout",
     "output_type": "stream",
     "text": [
      "<class 'pandas.core.frame.DataFrame'>\n",
      "RangeIndex: 469 entries, 0 to 468\n",
      "Data columns (total 19 columns):\n",
      "time                     469 non-null object\n",
      "gender                   469 non-null object\n",
      "sexuallity               469 non-null object\n",
      "age                      469 non-null int64\n",
      "income                   469 non-null object\n",
      "race                     469 non-null object\n",
      "bodyweight               469 non-null object\n",
      "virgin                   469 non-null object\n",
      "prostitution_legal       469 non-null object\n",
      "pay_for_sex              469 non-null object\n",
      "friends                  469 non-null int64\n",
      "social_fear              469 non-null object\n",
      "depressed                469 non-null object\n",
      "what_help_from_others    469 non-null object\n",
      "attempt_suicide          469 non-null object\n",
      "employment               469 non-null object\n",
      "job_title                457 non-null object\n",
      "edu_level                469 non-null object\n",
      "improve_yourself_how     469 non-null object\n",
      "dtypes: int64(2), object(17)\n",
      "memory usage: 69.7+ KB\n"
     ]
    }
   ],
   "source": [
    "df.info()"
   ]
  },
  {
   "cell_type": "markdown",
   "metadata": {},
   "source": [
    "Drop rows where it's null."
   ]
  },
  {
   "cell_type": "code",
   "execution_count": 37,
   "metadata": {},
   "outputs": [],
   "source": [
    "#drop rows with null values\n",
    "df.dropna(inplace=True)"
   ]
  },
  {
   "cell_type": "code",
   "execution_count": 39,
   "metadata": {},
   "outputs": [
    {
     "data": {
      "text/plain": [
       "time                     False\n",
       "gender                   False\n",
       "sexuallity               False\n",
       "age                      False\n",
       "income                   False\n",
       "race                     False\n",
       "bodyweight               False\n",
       "virgin                   False\n",
       "prostitution_legal       False\n",
       "pay_for_sex              False\n",
       "friends                  False\n",
       "social_fear              False\n",
       "depressed                False\n",
       "what_help_from_others    False\n",
       "attempt_suicide          False\n",
       "employment               False\n",
       "job_title                False\n",
       "edu_level                False\n",
       "improve_yourself_how     False\n",
       "dtype: bool"
      ]
     },
     "execution_count": 39,
     "metadata": {},
     "output_type": "execute_result"
    }
   ],
   "source": [
    "df.isna().any()"
   ]
  },
  {
   "cell_type": "markdown",
   "metadata": {},
   "source": [
    "Rename Values of Job_titles"
   ]
  },
  {
   "cell_type": "code",
   "execution_count": 41,
   "metadata": {},
   "outputs": [],
   "source": [
    "# strip stings with white space\n",
    "df['job_title'] = df.job_title.str.strip()"
   ]
  },
  {
   "cell_type": "code",
   "execution_count": 42,
   "metadata": {},
   "outputs": [],
   "source": [
    "# Function to replace job_title values\n",
    "def replace_text(what, to):\n",
    "    df.replace(what, to, inplace= True)"
   ]
  },
  {
   "cell_type": "code",
   "execution_count": 47,
   "metadata": {},
   "outputs": [],
   "source": [
    "replace_text('student', 'Student')\n",
    "replace_text('none', 'None')\n",
    "replace_text(\"N/a\", 'None')\n",
    "replace_text('na', 'None')\n",
    "replace_text('-', 'None')\n",
    "replace_text('.', 'None')\n",
    "replace_text('*', 'None')\n",
    "replace_text('ggg', 'None')"
   ]
  },
  {
   "cell_type": "code",
   "execution_count": 50,
   "metadata": {
    "scrolled": true
   },
   "outputs": [
    {
     "data": {
      "text/plain": [
       "Student                        82\n",
       "None                           51\n",
       "Unemployed                     13\n",
       "Engineer                        9\n",
       "Software Engineer               6\n",
       "Intern                          5\n",
       "Cashier                         4\n",
       "Software developer              4\n",
       "Nothing                         4\n",
       "Software Developer              3\n",
       "Clerk                           3\n",
       "Technician                      3\n",
       "NEET                            3\n",
       "engineer                        3\n",
       "Teacher                         3\n",
       "IT                              2\n",
       "Accountant                      2\n",
       "Courier                         2\n",
       "nothing                         2\n",
       "Admin                           2\n",
       "Designer                        2\n",
       "Auditor                         2\n",
       "Grad student                    2\n",
       "Research assistant              2\n",
       "unemployed                      2\n",
       "Janitor                         2\n",
       "Cleaner                         2\n",
       "Sales                           2\n",
       "Cook                            2\n",
       "Loser                           2\n",
       "                               ..\n",
       "Insurance agent.                1\n",
       "assistant caretaker             1\n",
       "customer service                1\n",
       "Language teacher                1\n",
       "Factory worker                  1\n",
       "supervisor                      1\n",
       "Grad Student                    1\n",
       "Accounts Receivable             1\n",
       "Lawyer                          1\n",
       "retail worker                   1\n",
       "Masters                         1\n",
       "Retail Associate                1\n",
       "Senior Developer                1\n",
       "Cinema Student                  1\n",
       "Data entry                      1\n",
       "Marketing                       1\n",
       "2nd lieutenant                  1\n",
       "Sales clerk                     1\n",
       "Program Manager, Non-profit     1\n",
       "mechanical drafter              1\n",
       "bum                             1\n",
       "college                         1\n",
       "Aviation Electricians Mate      1\n",
       "receptionist                    1\n",
       "student teacher                 1\n",
       "PA                              1\n",
       "Scientist                       1\n",
       "University Student              1\n",
       "Trainee Mechanical Engineer     1\n",
       "Junior BA                       1\n",
       "Name: job_title, Length: 258, dtype: int64"
      ]
     },
     "execution_count": 50,
     "metadata": {},
     "output_type": "execute_result"
    }
   ],
   "source": [
    "df.job_title.value_counts()"
   ]
  },
  {
   "cell_type": "markdown",
   "metadata": {},
   "source": [
    "## EDA"
   ]
  },
  {
   "cell_type": "code",
   "execution_count": 65,
   "metadata": {},
   "outputs": [
    {
     "data": {
      "text/plain": [
       "Male                  382\n",
       "Female                 72\n",
       "Transgender male        2\n",
       "Transgender female      1\n",
       "Name: gender, dtype: int64"
      ]
     },
     "execution_count": 65,
     "metadata": {},
     "output_type": "execute_result"
    }
   ],
   "source": [
    "df.gender.value_counts()"
   ]
  },
  {
   "cell_type": "code",
   "execution_count": 68,
   "metadata": {},
   "outputs": [
    {
     "name": "stderr",
     "output_type": "stream",
     "text": [
      "/home/bharat/anaconda3/lib/python3.7/site-packages/IPython/core/display.py:689: UserWarning:\n",
      "\n",
      "Consider using IPython.display.IFrame instead\n",
      "\n"
     ]
    },
    {
     "data": {
      "text/html": [
       "<iframe id=\"igraph\" scrolling=\"no\" style=\"border:none;\" seamless=\"seamless\" src=\"https://plot.ly/~bharatk101/6.embed\" height=\"525px\" width=\"100%\"></iframe>"
      ],
      "text/plain": [
       "<plotly.tools.PlotlyDisplay object>"
      ]
     },
     "execution_count": 68,
     "metadata": {},
     "output_type": "execute_result"
    }
   ],
   "source": [
    "# Gender counts\n",
    "\n",
    "data = [go.Bar(x = ['Male', 'Female', 'Transgender Male', 'Transgender Female'],\n",
    "              y = df.gender.value_counts())]\n",
    "layout = go.Layout(\n",
    "    title='Gender Frequency',\n",
    "    xaxis=dict(\n",
    "        title='Gender'\n",
    "    ),\n",
    "    yaxis=dict(\n",
    "        title='Count'\n",
    "        )\n",
    "    )\n",
    "\n",
    "fig = go.Figure(data=data, layout=layout)\n",
    "py.iplot(fig, filename='foreveralone_gender')"
   ]
  },
  {
   "cell_type": "code",
   "execution_count": 69,
   "metadata": {},
   "outputs": [
    {
     "data": {
      "text/plain": [
       "Straight       404\n",
       "Bisexual        45\n",
       "Gay/Lesbian      8\n",
       "Name: sexuallity, dtype: int64"
      ]
     },
     "execution_count": 69,
     "metadata": {},
     "output_type": "execute_result"
    }
   ],
   "source": [
    "# Sexuality Frequency\n",
    "\n",
    "df.sexuallity.value_counts()"
   ]
  },
  {
   "cell_type": "code",
   "execution_count": 72,
   "metadata": {},
   "outputs": [
    {
     "data": {
      "text/html": [
       "<iframe id=\"igraph\" scrolling=\"no\" style=\"border:none;\" seamless=\"seamless\" src=\"https://plot.ly/~bharatk101/8.embed\" height=\"525px\" width=\"100%\"></iframe>"
      ],
      "text/plain": [
       "<plotly.tools.PlotlyDisplay object>"
      ]
     },
     "execution_count": 72,
     "metadata": {},
     "output_type": "execute_result"
    }
   ],
   "source": [
    "# Sexuality counts\n",
    "\n",
    "data = [go.Bar(x = ['Straight', 'Bisexual', 'Gay/Lesbian'],\n",
    "              y = df.sexuallity.value_counts())]\n",
    "layout = go.Layout(\n",
    "    title='Sexuality Frequency',\n",
    "    xaxis=dict(\n",
    "        title='Sexuality'\n",
    "    ),\n",
    "    yaxis=dict(\n",
    "        title='Count'\n",
    "        )\n",
    "    )\n",
    "\n",
    "fig = go.Figure(data=data, layout=layout)\n",
    "py.iplot(fig, filename='foreveralone_sexuality')"
   ]
  },
  {
   "cell_type": "code",
   "execution_count": null,
   "metadata": {},
   "outputs": [],
   "source": []
  }
 ],
 "metadata": {
  "kernelspec": {
   "display_name": "Python 3",
   "language": "python",
   "name": "python3"
  },
  "language_info": {
   "codemirror_mode": {
    "name": "ipython",
    "version": 3
   },
   "file_extension": ".py",
   "mimetype": "text/x-python",
   "name": "python",
   "nbconvert_exporter": "python",
   "pygments_lexer": "ipython3",
   "version": "3.7.1"
  }
 },
 "nbformat": 4,
 "nbformat_minor": 2
}
